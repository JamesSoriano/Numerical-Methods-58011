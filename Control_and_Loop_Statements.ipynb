{
  "nbformat": 4,
  "nbformat_minor": 0,
  "metadata": {
    "colab": {
      "name": "Control and Loop Statements",
      "provenance": [],
      "authorship_tag": "ABX9TyP+iwGWBKOi+39hT1tsGN2V",
      "include_colab_link": true
    },
    "kernelspec": {
      "name": "python3",
      "display_name": "Python 3"
    },
    "language_info": {
      "name": "python"
    }
  },
  "cells": [
    {
      "cell_type": "markdown",
      "metadata": {
        "id": "view-in-github",
        "colab_type": "text"
      },
      "source": [
        "<a href=\"https://colab.research.google.com/github/JamesSoriano/Numerical-Methods-58011/blob/main/Control_and_Loop_Statements.ipynb\" target=\"_parent\"><img src=\"https://colab.research.google.com/assets/colab-badge.svg\" alt=\"Open In Colab\"/></a>"
      ]
    },
    {
      "cell_type": "markdown",
      "source": [
        "##If Statement"
      ],
      "metadata": {
        "id": "Jbu1VkJ9xvaH"
      }
    },
    {
      "cell_type": "code",
      "source": [
        "a = 12\n",
        "b = 100\n",
        "\n",
        "if b>a:\n",
        "  print(\"b is greater than A\")"
      ],
      "metadata": {
        "colab": {
          "base_uri": "https://localhost:8080/"
        },
        "id": "1akz3JePxvrF",
        "outputId": "a3afeba4-0704-4c37-ef8f-f52a348637ab"
      },
      "execution_count": 1,
      "outputs": [
        {
          "output_type": "stream",
          "name": "stdout",
          "text": [
            "b is greater than A\n"
          ]
        }
      ]
    },
    {
      "cell_type": "markdown",
      "source": [
        "##Elif Statement"
      ],
      "metadata": {
        "id": "mDGCW4W1xwCN"
      }
    },
    {
      "cell_type": "code",
      "source": [
        "\n",
        "if b>a:\n",
        "  print(\"B is greater than A\")\n",
        "elif a>b:\n",
        "  print(\"a is greateer than B\")"
      ],
      "metadata": {
        "id": "tAjDm3-QxwTk"
      },
      "execution_count": null,
      "outputs": []
    },
    {
      "cell_type": "markdown",
      "source": [
        "##Else Statement"
      ],
      "metadata": {
        "id": "_7-6F_3Nxwvd"
      }
    },
    {
      "cell_type": "code",
      "source": [
        "a = 100\n",
        "b = 100\n",
        "\n",
        "if b>a:\n",
        "  print(\"B is greater than A\")\n",
        "elif a>b:\n",
        "  print(\"a is greateer than B\")\n",
        "else:\n",
        "  print(\"A is equal to B\")"
      ],
      "metadata": {
        "id": "xzZQSRW4xxBI"
      },
      "execution_count": null,
      "outputs": []
    },
    {
      "cell_type": "markdown",
      "source": [
        "##Short Hand if Statement"
      ],
      "metadata": {
        "id": "22b-N108yV2u"
      }
    },
    {
      "cell_type": "code",
      "source": [
        "a=12\n",
        "b=100\n",
        "if b>a: print(\"b is greater than a\")"
      ],
      "metadata": {
        "id": "fA-Qt4Vrx0L4"
      },
      "execution_count": null,
      "outputs": []
    },
    {
      "cell_type": "markdown",
      "source": [
        "##Short Hand if.. Else Statement"
      ],
      "metadata": {
        "id": "SMI2Fx9Qx0G_"
      }
    },
    {
      "cell_type": "code",
      "source": [
        "c=35\n",
        "d=40\n",
        "\n",
        "print(\"c is greater than d\") if c>d else print(\"d is greater than c\")"
      ],
      "metadata": {
        "id": "Mixn1uZDxzsJ"
      },
      "execution_count": null,
      "outputs": []
    },
    {
      "cell_type": "markdown",
      "source": [
        "##And logic - if both statements or operand are true"
      ],
      "metadata": {
        "id": "-Ch96GGixzYA"
      }
    },
    {
      "cell_type": "code",
      "source": [
        "c=35\n",
        "d=40\n",
        "e=30\n",
        "\n",
        "if d>c and c>e:\n",
        "  print(\"Both condtions must be True\")"
      ],
      "metadata": {
        "id": "7E6wd52qxzJT"
      },
      "execution_count": null,
      "outputs": []
    },
    {
      "cell_type": "markdown",
      "source": [
        "##Or logic - if one of the operand is True"
      ],
      "metadata": {
        "id": "nbD0FxEsyfo0"
      }
    },
    {
      "cell_type": "code",
      "source": [
        "if d>c or e>c:\n",
        "  print(\"If one of the two operands is True\")"
      ],
      "metadata": {
        "id": "M2T1fO0-ymvH"
      },
      "execution_count": null,
      "outputs": []
    },
    {
      "cell_type": "markdown",
      "source": [
        "##Nested if\n"
      ],
      "metadata": {
        "id": "k3nRFL9hytbY"
      }
    },
    {
      "cell_type": "code",
      "source": [
        "x=int(input())\n",
        "\n",
        "if x>10:\n",
        "  print(\"x is above 10\")\n",
        "  if x>20:\n",
        "   print(\"x is above 20\")\n",
        "  if x>30:\n",
        "    print(\"x is above 30\")\n",
        "    if x>40:\n",
        "      print(\"x is above 40\")\n",
        "    else:\n",
        "       print(\"x is not above 40\")\n",
        "  else:\n",
        "      print(\"x is not above 30\")  \n",
        "else:\n",
        "  print(\"x is not above 20.\")"
      ],
      "metadata": {
        "id": "QHBhehJpytjh"
      },
      "execution_count": null,
      "outputs": []
    },
    {
      "cell_type": "markdown",
      "source": [
        "##Application 1-"
      ],
      "metadata": {
        "id": "UshmzprCyx8Y"
      }
    },
    {
      "cell_type": "code",
      "source": [
        "age= int(input())\n",
        "if age>=18:\n",
        "  print(\"you are qualified to vote\")\n",
        "else:\n",
        "  print(\"You are not qualified to vote\")"
      ],
      "metadata": {
        "id": "RJ6cORr9yykn"
      },
      "execution_count": null,
      "outputs": []
    },
    {
      "cell_type": "markdown",
      "source": [
        "##Application 2-\n"
      ],
      "metadata": {
        "id": "CYQCJ43ky2rN"
      }
    },
    {
      "cell_type": "code",
      "source": [
        "input_number = int(input())\n",
        "\n",
        "if input_number > 0:\n",
        "  print('The number is positive.')\n",
        "elif input_number < 0:\n",
        "  print('The number is negative.')\n",
        "else:\n",
        "  print('The number is zero.')"
      ],
      "metadata": {
        "id": "RSY1mUPMy2iX"
      },
      "execution_count": null,
      "outputs": []
    },
    {
      "cell_type": "markdown",
      "source": [
        "## For Loop Statement"
      ],
      "metadata": {
        "id": "xPomK0IkxtYS"
      }
    },
    {
      "cell_type": "code",
      "execution_count": null,
      "metadata": {
        "id": "5Ay60I2dxnbX"
      },
      "outputs": [],
      "source": [
        "week = [\"Sunday\",\"Monday\",\"Tueday\",\"Wednesday\",\"Thursday\",\"Friday\",\"Satudarday\"]\n",
        "for x in week:\n",
        "  print(x)"
      ]
    },
    {
      "cell_type": "markdown",
      "source": [
        "##the Break Statement"
      ],
      "metadata": {
        "id": "o9WXvQ5yxt2b"
      }
    },
    {
      "cell_type": "code",
      "source": [
        "week= [\"Sunday\", \"Monday\", \"Tuesday\", \"Wednesday\", \"Thursday\", \"Friday\", \"Saturday\"]\n",
        "\n",
        "for x in week:\n",
        "  print(x)\n",
        "\n",
        "  if x==\"Thursday\":\n",
        "    break"
      ],
      "metadata": {
        "id": "h5CutLpZxuYW"
      },
      "execution_count": null,
      "outputs": []
    },
    {
      "cell_type": "markdown",
      "source": [
        "##While Loop"
      ],
      "metadata": {
        "id": "ez-XewkXxu0f"
      }
    },
    {
      "cell_type": "code",
      "source": [
        "y=3\n",
        "\n",
        "while y<6:\n",
        "  print(y)\n",
        "  y==3\n",
        "  break\n",
        "  y+=1"
      ],
      "metadata": {
        "id": "FKF_wuoBxvK4"
      },
      "execution_count": null,
      "outputs": []
    }
  ]
}